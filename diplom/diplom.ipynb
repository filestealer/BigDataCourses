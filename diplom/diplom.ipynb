{
 "cells": [
  {
   "cell_type": "code",
   "execution_count": 1,
   "metadata": {},
   "outputs": [],
   "source": [
    "import os\n",
    "os.environ[\"JAVA_HOME\"] = \"/usr/lib/jvm/java-8-openjdk-amd64/\"\n",
    "os.environ[\"SPARK_HOME\"] = \"/opt/spark-2.4.0\"\n",
    "import findspark\n",
    "findspark.init()\n",
    "from pyspark.sql import SparkSession\n",
    "spark = SparkSession.builder.getOrCreate()\n"
   ]
  },
  {
   "cell_type": "code",
   "execution_count": 7,
   "metadata": {},
   "outputs": [],
   "source": [
    "\n",
    "red_df = spark.read.option(\"delimiter\", \";\").csv(\"winequality-red.csv\", header=True, inferSchema=True)\n",
    "white_df = spark.read.option(\"delimiter\", \";\").csv(\"winequality-white.csv\", header=True, inferSchema=True)\n"
   ]
  },
  {
   "cell_type": "code",
   "execution_count": 6,
   "metadata": {},
   "outputs": [
    {
     "name": "stdout",
     "output_type": "stream",
     "text": [
      "root\n",
      " |-- fixed acidity: double (nullable = true)\n",
      " |-- volatile acidity: double (nullable = true)\n",
      " |-- citric acid: double (nullable = true)\n",
      " |-- residual sugar: double (nullable = true)\n",
      " |-- chlorides: double (nullable = true)\n",
      " |-- free sulfur dioxide: double (nullable = true)\n",
      " |-- total sulfur dioxide: double (nullable = true)\n",
      " |-- density: double (nullable = true)\n",
      " |-- pH: double (nullable = true)\n",
      " |-- sulphates: double (nullable = true)\n",
      " |-- alcohol: double (nullable = true)\n",
      " |-- quality: integer (nullable = true)\n",
      "\n"
     ]
    }
   ],
   "source": [
    "red_df.printSchema()"
   ]
  },
  {
   "cell_type": "code",
   "execution_count": 8,
   "metadata": {},
   "outputs": [
    {
     "name": "stdout",
     "output_type": "stream",
     "text": [
      "root\n",
      " |-- fixed acidity: double (nullable = true)\n",
      " |-- volatile acidity: double (nullable = true)\n",
      " |-- citric acid: double (nullable = true)\n",
      " |-- residual sugar: double (nullable = true)\n",
      " |-- chlorides: double (nullable = true)\n",
      " |-- free sulfur dioxide: double (nullable = true)\n",
      " |-- total sulfur dioxide: double (nullable = true)\n",
      " |-- density: double (nullable = true)\n",
      " |-- pH: double (nullable = true)\n",
      " |-- sulphates: double (nullable = true)\n",
      " |-- alcohol: double (nullable = true)\n",
      " |-- quality: integer (nullable = true)\n",
      "\n"
     ]
    }
   ],
   "source": [
    "white_df.printSchema()"
   ]
  },
  {
   "cell_type": "code",
   "execution_count": 9,
   "metadata": {},
   "outputs": [],
   "source": [
    "from pyspark.ml.stat import Correlation\n",
    "from pyspark.ml.feature import VectorAssembler"
   ]
  },
  {
   "cell_type": "code",
   "execution_count": 38,
   "metadata": {},
   "outputs": [],
   "source": [
    "# convert to vector column first\n",
    "vector_col = \"corr_features\"\n",
    "assembler = VectorAssembler(inputCols=red_df.columns, outputCol=vector_col)\n",
    "df_vector = assembler.transform(red_df).select(vector_col)\n",
    "matrix = Correlation.corr(df_vector, vector_col)\n"
   ]
  },
  {
   "cell_type": "code",
   "execution_count": 39,
   "metadata": {},
   "outputs": [
    {
     "data": {
      "text/plain": [
       "array([ 1.        , -0.25613089,  0.67170343,  0.11477672,  0.09370519,\n",
       "       -0.15379419, -0.11318144,  0.66804729, -0.68297819,  0.18300566,\n",
       "       -0.06166827,  0.12405165, -0.25613089,  1.        , -0.55249568,\n",
       "        0.00191788,  0.06129777, -0.01050383,  0.07647   ,  0.02202623,\n",
       "        0.23493729, -0.26098669, -0.20228803, -0.39055778,  0.67170343,\n",
       "       -0.55249568,  1.        ,  0.14357716,  0.20382291, -0.06097813,\n",
       "        0.03553302,  0.36494718, -0.54190414,  0.31277004,  0.10990325,\n",
       "        0.22637251,  0.11477672,  0.00191788,  0.14357716,  1.        ,\n",
       "        0.05560954,  0.187049  ,  0.20302788,  0.35528337, -0.08565242,\n",
       "        0.00552712,  0.04207544,  0.01373164,  0.09370519,  0.06129777,\n",
       "        0.20382291,  0.05560954,  1.        ,  0.00556215,  0.04740047,\n",
       "        0.20063233, -0.26502613,  0.37126048, -0.22114054, -0.12890656,\n",
       "       -0.15379419, -0.01050383, -0.06097813,  0.187049  ,  0.00556215,\n",
       "        1.        ,  0.66766645, -0.02194583,  0.0703775 ,  0.05165757,\n",
       "       -0.06940835, -0.05065606, -0.11318144,  0.07647   ,  0.03553302,\n",
       "        0.20302788,  0.04740047,  0.66766645,  1.        ,  0.07126948,\n",
       "       -0.06649456,  0.04294684, -0.20565394, -0.18510029,  0.66804729,\n",
       "        0.02202623,  0.36494718,  0.35528337,  0.20063233, -0.02194583,\n",
       "        0.07126948,  1.        , -0.34169933,  0.14850641, -0.49617977,\n",
       "       -0.17491923, -0.68297819,  0.23493729, -0.54190414, -0.08565242,\n",
       "       -0.26502613,  0.0703775 , -0.06649456, -0.34169933,  1.        ,\n",
       "       -0.1966476 ,  0.20563251, -0.05773139,  0.18300566, -0.26098669,\n",
       "        0.31277004,  0.00552712,  0.37126048,  0.05165757,  0.04294684,\n",
       "        0.14850641, -0.1966476 ,  1.        ,  0.09359475,  0.25139708,\n",
       "       -0.06166827, -0.20228803,  0.10990325,  0.04207544, -0.22114054,\n",
       "       -0.06940835, -0.20565394, -0.49617977,  0.20563251,  0.09359475,\n",
       "        1.        ,  0.47616632,  0.12405165, -0.39055778,  0.22637251,\n",
       "        0.01373164, -0.12890656, -0.05065606, -0.18510029, -0.17491923,\n",
       "       -0.05773139,  0.25139708,  0.47616632,  1.        ])"
      ]
     },
     "execution_count": 39,
     "metadata": {},
     "output_type": "execute_result"
    }
   ],
   "source": [
    "matrix.collect()[0][\"pearson({})\".format(vector_col)].values"
   ]
  },
  {
   "cell_type": "code",
   "execution_count": 16,
   "metadata": {},
   "outputs": [
    {
     "name": "stdout",
     "output_type": "stream",
     "text": [
      "+-------------+----------------+-----------+--------------+---------+-------------------+--------------------+-------+----+---------+-------+-------+\n",
      "|fixed acidity|volatile acidity|citric acid|residual sugar|chlorides|free sulfur dioxide|total sulfur dioxide|density|  pH|sulphates|alcohol|quality|\n",
      "+-------------+----------------+-----------+--------------+---------+-------------------+--------------------+-------+----+---------+-------+-------+\n",
      "|          7.4|             0.7|        0.0|           1.9|    0.076|               11.0|                34.0| 0.9978|3.51|     0.56|    9.4|      5|\n",
      "|          7.8|            0.88|        0.0|           2.6|    0.098|               25.0|                67.0| 0.9968| 3.2|     0.68|    9.8|      5|\n",
      "|          7.8|            0.76|       0.04|           2.3|    0.092|               15.0|                54.0|  0.997|3.26|     0.65|    9.8|      5|\n",
      "|         11.2|            0.28|       0.56|           1.9|    0.075|               17.0|                60.0|  0.998|3.16|     0.58|    9.8|      6|\n",
      "|          7.4|             0.7|        0.0|           1.9|    0.076|               11.0|                34.0| 0.9978|3.51|     0.56|    9.4|      5|\n",
      "|          7.4|            0.66|        0.0|           1.8|    0.075|               13.0|                40.0| 0.9978|3.51|     0.56|    9.4|      5|\n",
      "|          7.9|             0.6|       0.06|           1.6|    0.069|               15.0|                59.0| 0.9964| 3.3|     0.46|    9.4|      5|\n",
      "|          7.3|            0.65|        0.0|           1.2|    0.065|               15.0|                21.0| 0.9946|3.39|     0.47|   10.0|      7|\n",
      "|          7.8|            0.58|       0.02|           2.0|    0.073|                9.0|                18.0| 0.9968|3.36|     0.57|    9.5|      7|\n",
      "|          7.5|             0.5|       0.36|           6.1|    0.071|               17.0|               102.0| 0.9978|3.35|      0.8|   10.5|      5|\n",
      "|          6.7|            0.58|       0.08|           1.8|    0.097|               15.0|                65.0| 0.9959|3.28|     0.54|    9.2|      5|\n",
      "|          7.5|             0.5|       0.36|           6.1|    0.071|               17.0|               102.0| 0.9978|3.35|      0.8|   10.5|      5|\n",
      "|          5.6|           0.615|        0.0|           1.6|    0.089|               16.0|                59.0| 0.9943|3.58|     0.52|    9.9|      5|\n",
      "|          7.8|            0.61|       0.29|           1.6|    0.114|                9.0|                29.0| 0.9974|3.26|     1.56|    9.1|      5|\n",
      "|          8.9|            0.62|       0.18|           3.8|    0.176|               52.0|               145.0| 0.9986|3.16|     0.88|    9.2|      5|\n",
      "|          8.9|            0.62|       0.19|           3.9|     0.17|               51.0|               148.0| 0.9986|3.17|     0.93|    9.2|      5|\n",
      "|          8.5|            0.28|       0.56|           1.8|    0.092|               35.0|               103.0| 0.9969| 3.3|     0.75|   10.5|      7|\n",
      "|          8.1|            0.56|       0.28|           1.7|    0.368|               16.0|                56.0| 0.9968|3.11|     1.28|    9.3|      5|\n",
      "|          7.4|            0.59|       0.08|           4.4|    0.086|                6.0|                29.0| 0.9974|3.38|      0.5|    9.0|      4|\n",
      "|          7.9|            0.32|       0.51|           1.8|    0.341|               17.0|                56.0| 0.9969|3.04|     1.08|    9.2|      6|\n",
      "+-------------+----------------+-----------+--------------+---------+-------------------+--------------------+-------+----+---------+-------+-------+\n",
      "only showing top 20 rows\n",
      "\n"
     ]
    }
   ],
   "source": [
    "red_df.show()"
   ]
  },
  {
   "cell_type": "code",
   "execution_count": 23,
   "metadata": {},
   "outputs": [
    {
     "data": {
      "text/plain": [
       "-0.390557780264006"
      ]
     },
     "execution_count": 23,
     "metadata": {},
     "output_type": "execute_result"
    }
   ],
   "source": [
    "red_df.corr('volatile acidity','quality')\n"
   ]
  },
  {
   "cell_type": "code",
   "execution_count": null,
   "metadata": {},
   "outputs": [],
   "source": []
  },
  {
   "cell_type": "code",
   "execution_count": 31,
   "metadata": {},
   "outputs": [],
   "source": [
    "from pyspark.ml.feature import VectorAssembler\n",
    "train_cols = red_df.columns[:-1]\n",
    "vectorAssembler = VectorAssembler(inputCols = train_cols, outputCol = 'features')\n",
    "v_df = vectorAssembler.transform(red_df)\n",
    "v_df = v_df.select(['features', 'quality'])\n",
    "(train_df, test_df) = v_df.randomSplit([0.8,0.2])"
   ]
  },
  {
   "cell_type": "code",
   "execution_count": 32,
   "metadata": {},
   "outputs": [
    {
     "name": "stdout",
     "output_type": "stream",
     "text": [
      "RMSE: 0.656590\n",
      "MSE: 0.431111\n",
      "MAE: 0.508160\n"
     ]
    }
   ],
   "source": [
    "from pyspark.ml.regression import LinearRegression\n",
    "lr = LinearRegression(featuresCol='features', labelCol='quality')\n",
    "lr_model = lr.fit(train_df)\n",
    "trainingSummary = lr_model.summary\n",
    "print(\"RMSE: %f\" % trainingSummary.rootMeanSquaredError)\n",
    "print(\"MSE: %f\" % trainingSummary.meanSquaredError)\n",
    "print(\"MAE: %f\" % trainingSummary.meanAbsoluteError)"
   ]
  },
  {
   "cell_type": "code",
   "execution_count": 33,
   "metadata": {},
   "outputs": [
    {
     "name": "stdout",
     "output_type": "stream",
     "text": [
      "+-----------------+-------+--------------------+\n",
      "|       prediction|quality|            features|\n",
      "+-----------------+-------+--------------------+\n",
      "|6.644970205799705|      6|[5.0,0.4,0.5,4.3,...|\n",
      "|6.705087821972654|      8|[5.0,0.42,0.24,2....|\n",
      "|6.392341485265039|      7|[5.1,0.585,0.0,1....|\n",
      "|5.153878270839083|      5|[5.3,0.715,0.19,1...|\n",
      "| 6.00795802589764|      7|[5.4,0.835,0.08,1...|\n",
      "+-----------------+-------+--------------------+\n",
      "only showing top 5 rows\n",
      "\n"
     ]
    }
   ],
   "source": [
    "lr_predictions = lr_model.transform(test_df)\n",
    "lr_predictions.select(\"prediction\",\"quality\",\"features\").show(5)"
   ]
  },
  {
   "cell_type": "code",
   "execution_count": 34,
   "metadata": {},
   "outputs": [
    {
     "name": "stdout",
     "output_type": "stream",
     "text": [
      "MSE on test data = 0.469951\n"
     ]
    }
   ],
   "source": [
    "from pyspark.ml.evaluation import RegressionEvaluator\n",
    "\n",
    "lr_evaluator = RegressionEvaluator(predictionCol=\"prediction\", \\\n",
    "                 labelCol=\"quality\", metricName=\"mae\")\n",
    "\n",
    "print(\"MSE on test data = %g\" % lr_evaluator.evaluate(lr_predictions))"
   ]
  },
  {
   "cell_type": "code",
   "execution_count": null,
   "metadata": {},
   "outputs": [],
   "source": [
    "#Дальше по белому вину"
   ]
  },
  {
   "cell_type": "code",
   "execution_count": 40,
   "metadata": {},
   "outputs": [
    {
     "data": {
      "text/plain": [
       "array([ 1.00000000e+00, -2.26972901e-02,  2.89180698e-01,  8.90207014e-02,\n",
       "        2.30856437e-02, -4.93958591e-02,  9.10697562e-02,  2.65331014e-01,\n",
       "       -4.25858291e-01, -1.71429850e-02, -1.20881123e-01, -1.13662831e-01,\n",
       "       -2.26972901e-02,  1.00000000e+00, -1.49471811e-01,  6.42860601e-02,\n",
       "        7.05115715e-02, -9.70119393e-02,  8.92605036e-02,  2.71138455e-02,\n",
       "       -3.19153683e-02, -3.57281469e-02,  6.77179428e-02, -1.94722969e-01,\n",
       "        2.89180698e-01, -1.49471811e-01,  1.00000000e+00,  9.42116243e-02,\n",
       "        1.14364448e-01,  9.40772210e-02,  1.21130798e-01,  1.49502571e-01,\n",
       "       -1.63748211e-01,  6.23309403e-02, -7.57287301e-02, -9.20909088e-03,\n",
       "        8.90207014e-02,  6.42860601e-02,  9.42116243e-02,  1.00000000e+00,\n",
       "        8.86845359e-02,  2.99098354e-01,  4.01439311e-01,  8.38966455e-01,\n",
       "       -1.94133454e-01, -2.66643659e-02, -4.50631222e-01, -9.75768289e-02,\n",
       "        2.30856437e-02,  7.05115715e-02,  1.14364448e-01,  8.86845359e-02,\n",
       "        1.00000000e+00,  1.01392352e-01,  1.98910300e-01,  2.57211320e-01,\n",
       "       -9.04394560e-02,  1.67628837e-02, -3.60188712e-01, -2.09934411e-01,\n",
       "       -4.93958591e-02, -9.70119393e-02,  9.40772210e-02,  2.99098354e-01,\n",
       "        1.01392352e-01,  1.00000000e+00,  6.15500965e-01,  2.94210411e-01,\n",
       "       -6.17796140e-04,  5.92172458e-02, -2.50103941e-01,  8.15806712e-03,\n",
       "        9.10697562e-02,  8.92605036e-02,  1.21130798e-01,  4.01439311e-01,\n",
       "        1.98910300e-01,  6.15500965e-01,  1.00000000e+00,  5.29881324e-01,\n",
       "        2.32097177e-03,  1.34562367e-01, -4.48892102e-01, -1.74737218e-01,\n",
       "        2.65331014e-01,  2.71138455e-02,  1.49502571e-01,  8.38966455e-01,\n",
       "        2.57211320e-01,  2.94210411e-01,  5.29881324e-01,  1.00000000e+00,\n",
       "       -9.35914934e-02,  7.44931485e-02, -7.80137621e-01, -3.07123313e-01,\n",
       "       -4.25858291e-01, -3.19153683e-02, -1.63748211e-01, -1.94133454e-01,\n",
       "       -9.04394560e-02, -6.17796140e-04,  2.32097177e-03, -9.35914934e-02,\n",
       "        1.00000000e+00,  1.55951497e-01,  1.21432099e-01,  9.94272457e-02,\n",
       "       -1.71429850e-02, -3.57281469e-02,  6.23309403e-02, -2.66643659e-02,\n",
       "        1.67628837e-02,  5.92172458e-02,  1.34562367e-01,  7.44931485e-02,\n",
       "        1.55951497e-01,  1.00000000e+00, -1.74327719e-02,  5.36778771e-02,\n",
       "       -1.20881123e-01,  6.77179428e-02, -7.57287301e-02, -4.50631222e-01,\n",
       "       -3.60188712e-01, -2.50103941e-01, -4.48892102e-01, -7.80137621e-01,\n",
       "        1.21432099e-01, -1.74327719e-02,  1.00000000e+00,  4.35574715e-01,\n",
       "       -1.13662831e-01, -1.94722969e-01, -9.20909088e-03, -9.75768289e-02,\n",
       "       -2.09934411e-01,  8.15806712e-03, -1.74737218e-01, -3.07123313e-01,\n",
       "        9.94272457e-02,  5.36778771e-02,  4.35574715e-01,  1.00000000e+00])"
      ]
     },
     "execution_count": 40,
     "metadata": {},
     "output_type": "execute_result"
    }
   ],
   "source": [
    "# convert to vector column first\n",
    "vector_col = \"corr_features\"\n",
    "assembler = VectorAssembler(inputCols=white_df.columns, outputCol=vector_col)\n",
    "df_vector = assembler.transform(white_df).select(vector_col)\n",
    "matrix = Correlation.corr(df_vector, vector_col)\n",
    "matrix.collect()[0][\"pearson({})\".format(vector_col)].values"
   ]
  },
  {
   "cell_type": "code",
   "execution_count": 43,
   "metadata": {},
   "outputs": [
    {
     "data": {
      "text/plain": [
       "0.4355747154613733"
      ]
     },
     "execution_count": 43,
     "metadata": {},
     "output_type": "execute_result"
    }
   ],
   "source": [
    "white_df.corr('alcohol','quality')"
   ]
  },
  {
   "cell_type": "code",
   "execution_count": 45,
   "metadata": {},
   "outputs": [
    {
     "name": "stdout",
     "output_type": "stream",
     "text": [
      "RMSE: 0.746185\n",
      "MSE: 0.556792\n",
      "MAE: 0.578383\n"
     ]
    }
   ],
   "source": [
    "train_cols_w = white_df.columns[:-1]\n",
    "vectorAssembler = VectorAssembler(inputCols = train_cols_w, outputCol = 'features')\n",
    "v_df = vectorAssembler.transform(white_df)\n",
    "v_df = v_df.select(['features', 'quality'])\n",
    "(train_df, test_df) = v_df.randomSplit([0.8,0.2])\n",
    "lr = LinearRegression(featuresCol='features', labelCol='quality')\n",
    "lr_model = lr.fit(train_df)\n",
    "trainingSummary = lr_model.summary\n",
    "print(\"RMSE: %f\" % trainingSummary.rootMeanSquaredError)\n",
    "print(\"MSE: %f\" % trainingSummary.meanSquaredError)\n",
    "print(\"MAE: %f\" % trainingSummary.meanAbsoluteError)"
   ]
  },
  {
   "cell_type": "code",
   "execution_count": 48,
   "metadata": {},
   "outputs": [
    {
     "name": "stdout",
     "output_type": "stream",
     "text": [
      "+------------------+-------+--------------------+\n",
      "|        prediction|quality|            features|\n",
      "+------------------+-------+--------------------+\n",
      "| 6.768540710089667|      7|[4.8,0.13,0.32,1....|\n",
      "| 5.798816718853985|      5|[4.9,0.335,0.14,1...|\n",
      "| 5.451656597106904|      5|[4.9,0.345,0.34,1...|\n",
      "|6.8487935878707304|      7|[5.0,0.24,0.34,1....|\n",
      "| 6.806183502218474|      7|[5.0,0.27,0.32,4....|\n",
      "+------------------+-------+--------------------+\n",
      "only showing top 5 rows\n",
      "\n",
      "MSE on test data = 0.604597\n"
     ]
    }
   ],
   "source": [
    "lr_predictions = lr_model.transform(test_df)\n",
    "lr_predictions.select(\"prediction\",\"quality\",\"features\").show(5)\n",
    "lr_evaluator = RegressionEvaluator(predictionCol=\"prediction\", \\\n",
    "                 labelCol=\"quality\", metricName=\"mae\")\n",
    "\n",
    "print(\"MSE on test data = %g\" % lr_evaluator.evaluate(lr_predictions))"
   ]
  },
  {
   "cell_type": "code",
   "execution_count": null,
   "metadata": {},
   "outputs": [],
   "source": [
    "# Модель отработала с MSE для белого вина 0.6 и для красного 0.47 \n",
    "# Далее посмотрим на датасеты"
   ]
  },
  {
   "cell_type": "code",
   "execution_count": 49,
   "metadata": {},
   "outputs": [
    {
     "name": "stdout",
     "output_type": "stream",
     "text": [
      "+-------------+----------------+-----------+--------------+---------+-------------------+--------------------+-------+----+---------+-------+-------+\n",
      "|fixed acidity|volatile acidity|citric acid|residual sugar|chlorides|free sulfur dioxide|total sulfur dioxide|density|  pH|sulphates|alcohol|quality|\n",
      "+-------------+----------------+-----------+--------------+---------+-------------------+--------------------+-------+----+---------+-------+-------+\n",
      "|          7.4|             0.7|        0.0|           1.9|    0.076|               11.0|                34.0| 0.9978|3.51|     0.56|    9.4|      5|\n",
      "|          7.8|            0.88|        0.0|           2.6|    0.098|               25.0|                67.0| 0.9968| 3.2|     0.68|    9.8|      5|\n",
      "|          7.8|            0.76|       0.04|           2.3|    0.092|               15.0|                54.0|  0.997|3.26|     0.65|    9.8|      5|\n",
      "|         11.2|            0.28|       0.56|           1.9|    0.075|               17.0|                60.0|  0.998|3.16|     0.58|    9.8|      6|\n",
      "|          7.4|             0.7|        0.0|           1.9|    0.076|               11.0|                34.0| 0.9978|3.51|     0.56|    9.4|      5|\n",
      "+-------------+----------------+-----------+--------------+---------+-------------------+--------------------+-------+----+---------+-------+-------+\n",
      "only showing top 5 rows\n",
      "\n"
     ]
    }
   ],
   "source": [
    "red_df.show(5)"
   ]
  },
  {
   "cell_type": "code",
   "execution_count": 79,
   "metadata": {},
   "outputs": [],
   "source": [
    "r_min = red_df.agg({\n",
    "    'fixed acidity': 'min',\n",
    "'volatile acidity': 'min',\n",
    "'citric acid': 'min',\n",
    "'residual sugar': 'min',\n",
    "'chlorides': 'min',\n",
    "'free sulfur dioxide': 'min',\n",
    "'total sulfur dioxide': 'min',\n",
    "'density': 'min',\n",
    "'pH': 'min',\n",
    "'sulphates': 'min',\n",
    "'alcohol': 'min',\n",
    "'quality': 'min'} )\n",
    "\n"
   ]
  },
  {
   "cell_type": "code",
   "execution_count": 80,
   "metadata": {},
   "outputs": [
    {
     "name": "stdout",
     "output_type": "stream",
     "text": [
      "+------------+------------------------+------------------+-------------------------+-------------------+---------------------+--------------+--------------+----------------+------------+-------+------------+\n",
      "|min(quality)|min(free sulfur dioxide)|min(fixed acidity)|min(total sulfur dioxide)|min(residual sugar)|min(volatile acidity)|min(sulphates)|min(chlorides)|min(citric acid)|min(density)|min(pH)|min(alcohol)|\n",
      "+------------+------------------------+------------------+-------------------------+-------------------+---------------------+--------------+--------------+----------------+------------+-------+------------+\n",
      "|           3|                     1.0|               4.6|                      6.0|                0.9|                 0.12|          0.33|         0.012|             0.0|     0.99007|   2.74|         8.4|\n",
      "|           8|                    72.0|              15.9|                    289.0|               15.5|                 1.58|           2.0|         0.611|             1.0|     1.00369|   4.01|        14.9|\n",
      "+------------+------------------------+------------------+-------------------------+-------------------+---------------------+--------------+--------------+----------------+------------+-------+------------+\n",
      "\n"
     ]
    }
   ],
   "source": [
    "r_max = red_df.agg({\n",
    "    'fixed acidity': 'max',\n",
    "'volatile acidity': 'max',\n",
    "'citric acid': 'max',\n",
    "'residual sugar': 'max',\n",
    "'chlorides': 'max',\n",
    "'free sulfur dioxide': 'max',\n",
    "'total sulfur dioxide': 'max',\n",
    "'density': 'max',\n",
    "'pH': 'max',\n",
    "'sulphates': 'max',\n",
    "'alcohol': 'max',\n",
    "'quality': 'max'} )\n",
    "r_min.union(r_max).show()\n"
   ]
  },
  {
   "cell_type": "code",
   "execution_count": 81,
   "metadata": {},
   "outputs": [],
   "source": [
    "w_min = white_df.agg({\n",
    "    'fixed acidity': 'min',\n",
    "'volatile acidity': 'min',\n",
    "'citric acid': 'min',\n",
    "'residual sugar': 'min',\n",
    "'chlorides': 'min',\n",
    "'free sulfur dioxide': 'min',\n",
    "'total sulfur dioxide': 'min',\n",
    "'density': 'min',\n",
    "'pH': 'min',\n",
    "'sulphates': 'min',\n",
    "'alcohol': 'min',\n",
    "'quality': 'min'} )"
   ]
  },
  {
   "cell_type": "code",
   "execution_count": 82,
   "metadata": {},
   "outputs": [],
   "source": [
    "w_max = white_df.agg({\n",
    "    'fixed acidity': 'max',\n",
    "'volatile acidity': 'max',\n",
    "'citric acid': 'max',\n",
    "'residual sugar': 'max',\n",
    "'chlorides': 'max',\n",
    "'free sulfur dioxide': 'max',\n",
    "'total sulfur dioxide': 'max',\n",
    "'density': 'max',\n",
    "'pH': 'max',\n",
    "'sulphates': 'max',\n",
    "'alcohol': 'max',\n",
    "'quality': 'max'} )"
   ]
  },
  {
   "cell_type": "code",
   "execution_count": 83,
   "metadata": {},
   "outputs": [
    {
     "name": "stdout",
     "output_type": "stream",
     "text": [
      "+------------+------------------------+------------------+-------------------------+-------------------+---------------------+--------------+--------------+----------------+------------+-------+------------+\n",
      "|min(quality)|min(free sulfur dioxide)|min(fixed acidity)|min(total sulfur dioxide)|min(residual sugar)|min(volatile acidity)|min(sulphates)|min(chlorides)|min(citric acid)|min(density)|min(pH)|min(alcohol)|\n",
      "+------------+------------------------+------------------+-------------------------+-------------------+---------------------+--------------+--------------+----------------+------------+-------+------------+\n",
      "|           3|                     1.0|               4.6|                      6.0|                0.9|                 0.12|          0.33|         0.012|             0.0|     0.99007|   2.74|         8.4|\n",
      "|           8|                    72.0|              15.9|                    289.0|               15.5|                 1.58|           2.0|         0.611|             1.0|     1.00369|   4.01|        14.9|\n",
      "|           3|                     2.0|               3.8|                      9.0|                0.6|                 0.08|          0.22|         0.009|             0.0|     0.98711|   2.72|         8.0|\n",
      "|           9|                   289.0|              14.2|                    440.0|               65.8|                  1.1|          1.08|         0.346|            1.66|     1.03898|   3.82|        14.2|\n",
      "+------------+------------------------+------------------+-------------------------+-------------------+---------------------+--------------+--------------+----------------+------------+-------+------------+\n",
      "\n"
     ]
    }
   ],
   "source": [
    "r_min.union(r_max).union(w_min).union(w_max).show()"
   ]
  },
  {
   "cell_type": "code",
   "execution_count": 88,
   "metadata": {},
   "outputs": [
    {
     "name": "stdout",
     "output_type": "stream",
     "text": [
      "+------------------+------------------------+------------------+-------------------------+-------------------+---------------------+------------------+-------------------+-------------------+------------------+------------------+------------------+\n",
      "|      avg(quality)|avg(free sulfur dioxide)|avg(fixed acidity)|avg(total sulfur dioxide)|avg(residual sugar)|avg(volatile acidity)|    avg(sulphates)|     avg(chlorides)|   avg(citric acid)|      avg(density)|           avg(pH)|      avg(alcohol)|\n",
      "+------------------+------------------------+------------------+-------------------------+-------------------+---------------------+------------------+-------------------+-------------------+------------------+------------------+------------------+\n",
      "|5.6360225140712945|      15.874921826141339| 8.319637273295838|        46.46779237023139| 2.5388055034396517|   0.5278205128205131|0.6581488430268921|0.08746654158849257| 0.2709756097560964|0.9967466791744831| 3.311113195747343|10.422983114446502|\n",
      "|  5.87790935075541|       35.30808493262556| 6.854787668436075|       138.36065741118824|  6.391414863209486|  0.27824111882401087|0.4898468762760325| 0.0457723560636995|0.33419150673743736|0.9940273764801896|3.1882666394446693|10.514267047774638|\n",
      "+------------------+------------------------+------------------+-------------------------+-------------------+---------------------+------------------+-------------------+-------------------+------------------+------------------+------------------+\n",
      "\n"
     ]
    }
   ],
   "source": [
    "w_mean = white_df.agg({\n",
    "    'fixed acidity': 'mean',\n",
    "'volatile acidity': 'mean',\n",
    "'citric acid': 'mean',\n",
    "'residual sugar': 'mean',\n",
    "'chlorides': 'mean',\n",
    "'free sulfur dioxide': 'mean',\n",
    "'total sulfur dioxide': 'mean',\n",
    "'density': 'mean',\n",
    "'pH': 'mean',\n",
    "'sulphates': 'mean',\n",
    "'alcohol': 'mean',\n",
    "'quality': 'mean'} )\n",
    "r_mean = red_df.agg({\n",
    "    'fixed acidity': 'mean',\n",
    "'volatile acidity': 'mean',\n",
    "'citric acid': 'mean',\n",
    "'residual sugar': 'mean',\n",
    "'chlorides': 'mean',\n",
    "'free sulfur dioxide': 'mean',\n",
    "'total sulfur dioxide': 'mean',\n",
    "'density': 'mean',\n",
    "'pH': 'mean',\n",
    "'sulphates': 'mean',\n",
    "'alcohol': 'mean',\n",
    "'quality': 'mean'} )\n",
    "\n",
    "r_mean.union(w_mean).show()"
   ]
  },
  {
   "cell_type": "code",
   "execution_count": 90,
   "metadata": {},
   "outputs": [],
   "source": [
    "from pyspark.sql import functions as F"
   ]
  },
  {
   "cell_type": "code",
   "execution_count": 108,
   "metadata": {},
   "outputs": [
    {
     "name": "stdout",
     "output_type": "stream",
     "text": [
      "+------------------+------------------+\n",
      "|min(fixed acidity)|max(fixed acidity)|\n",
      "+------------------+------------------+\n",
      "|               4.6|              15.9|\n",
      "+------------------+------------------+\n",
      "\n"
     ]
    }
   ],
   "source": [
    "red_df.agg(F.min(red_df['fixed acidity']), F.max(red_df['fixed acidity'])).show()"
   ]
  },
  {
   "cell_type": "code",
   "execution_count": 111,
   "metadata": {},
   "outputs": [
    {
     "data": {
      "text/plain": [
       "[22.0]"
      ]
     },
     "execution_count": 111,
     "metadata": {},
     "output_type": "execute_result"
    }
   ],
   "source": [
    "red_df.approxQuantile('total sulfur dioxide', [0.5], 0.25)"
   ]
  },
  {
   "cell_type": "code",
   "execution_count": 110,
   "metadata": {},
   "outputs": [
    {
     "data": {
      "text/plain": [
       "[108.0]"
      ]
     },
     "execution_count": 110,
     "metadata": {},
     "output_type": "execute_result"
    }
   ],
   "source": [
    "white_df.approxQuantile('total sulfur dioxide', [0.5], 0.25)"
   ]
  }
 ],
 "metadata": {
  "kernelspec": {
   "display_name": "Python 3",
   "language": "python",
   "name": "python3"
  },
  "language_info": {
   "codemirror_mode": {
    "name": "ipython",
    "version": 3
   },
   "file_extension": ".py",
   "mimetype": "text/x-python",
   "name": "python",
   "nbconvert_exporter": "python",
   "pygments_lexer": "ipython3",
   "version": "3.7.1"
  }
 },
 "nbformat": 4,
 "nbformat_minor": 2
}
