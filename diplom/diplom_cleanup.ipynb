{
 "cells": [
  {
   "cell_type": "code",
   "execution_count": 1,
   "metadata": {},
   "outputs": [],
   "source": [
    "import os\n",
    "os.environ[\"JAVA_HOME\"] = \"/usr/lib/jvm/java-8-openjdk-amd64/\"\n",
    "os.environ[\"SPARK_HOME\"] = \"/opt/spark-2.4.0\"\n",
    "import findspark\n",
    "findspark.init()\n",
    "from pyspark.sql import SparkSession\n",
    "spark = SparkSession.builder.getOrCreate()"
   ]
  },
  {
   "cell_type": "code",
   "execution_count": 2,
   "metadata": {},
   "outputs": [],
   "source": [
    "red_df = spark.read.option(\"delimiter\", \";\").csv(\"winequality-red.csv\", header=True, inferSchema=True)\n",
    "white_df = spark.read.option(\"delimiter\", \";\").csv(\"winequality-white.csv\", header=True, inferSchema=True)"
   ]
  },
  {
   "cell_type": "code",
   "execution_count": 3,
   "metadata": {},
   "outputs": [],
   "source": [
    "from pyspark.ml.stat import Correlation\n",
    "from pyspark.ml.feature import VectorAssembler"
   ]
  },
  {
   "cell_type": "code",
   "execution_count": 4,
   "metadata": {},
   "outputs": [],
   "source": [
    "vector_col = \"corr_features\"\n",
    "assembler = VectorAssembler(inputCols=red_df.columns, outputCol=vector_col)\n",
    "df_vector = assembler.transform(red_df).select(vector_col)\n",
    "matrix = Correlation.corr(df_vector, vector_col)"
   ]
  },
  {
   "cell_type": "code",
   "execution_count": 5,
   "metadata": {},
   "outputs": [
    {
     "data": {
      "text/plain": [
       "array([ 1.        , -0.25613089,  0.67170343,  0.11477672,  0.09370519,\n",
       "       -0.15379419, -0.11318144,  0.66804729, -0.68297819,  0.18300566,\n",
       "       -0.06166827,  0.12405165, -0.25613089,  1.        , -0.55249568,\n",
       "        0.00191788,  0.06129777, -0.01050383,  0.07647   ,  0.02202623,\n",
       "        0.23493729, -0.26098669, -0.20228803, -0.39055778,  0.67170343,\n",
       "       -0.55249568,  1.        ,  0.14357716,  0.20382291, -0.06097813,\n",
       "        0.03553302,  0.36494718, -0.54190414,  0.31277004,  0.10990325,\n",
       "        0.22637251,  0.11477672,  0.00191788,  0.14357716,  1.        ,\n",
       "        0.05560954,  0.187049  ,  0.20302788,  0.35528337, -0.08565242,\n",
       "        0.00552712,  0.04207544,  0.01373164,  0.09370519,  0.06129777,\n",
       "        0.20382291,  0.05560954,  1.        ,  0.00556215,  0.04740047,\n",
       "        0.20063233, -0.26502613,  0.37126048, -0.22114054, -0.12890656,\n",
       "       -0.15379419, -0.01050383, -0.06097813,  0.187049  ,  0.00556215,\n",
       "        1.        ,  0.66766645, -0.02194583,  0.0703775 ,  0.05165757,\n",
       "       -0.06940835, -0.05065606, -0.11318144,  0.07647   ,  0.03553302,\n",
       "        0.20302788,  0.04740047,  0.66766645,  1.        ,  0.07126948,\n",
       "       -0.06649456,  0.04294684, -0.20565394, -0.18510029,  0.66804729,\n",
       "        0.02202623,  0.36494718,  0.35528337,  0.20063233, -0.02194583,\n",
       "        0.07126948,  1.        , -0.34169933,  0.14850641, -0.49617977,\n",
       "       -0.17491923, -0.68297819,  0.23493729, -0.54190414, -0.08565242,\n",
       "       -0.26502613,  0.0703775 , -0.06649456, -0.34169933,  1.        ,\n",
       "       -0.1966476 ,  0.20563251, -0.05773139,  0.18300566, -0.26098669,\n",
       "        0.31277004,  0.00552712,  0.37126048,  0.05165757,  0.04294684,\n",
       "        0.14850641, -0.1966476 ,  1.        ,  0.09359475,  0.25139708,\n",
       "       -0.06166827, -0.20228803,  0.10990325,  0.04207544, -0.22114054,\n",
       "       -0.06940835, -0.20565394, -0.49617977,  0.20563251,  0.09359475,\n",
       "        1.        ,  0.47616632,  0.12405165, -0.39055778,  0.22637251,\n",
       "        0.01373164, -0.12890656, -0.05065606, -0.18510029, -0.17491923,\n",
       "       -0.05773139,  0.25139708,  0.47616632,  1.        ])"
      ]
     },
     "execution_count": 5,
     "metadata": {},
     "output_type": "execute_result"
    }
   ],
   "source": [
    "matrix.collect()[0][\"pearson({})\".format(vector_col)].values"
   ]
  },
  {
   "cell_type": "code",
   "execution_count": 6,
   "metadata": {},
   "outputs": [],
   "source": [
    "train_cols = red_df.columns[:-1]\n",
    "vectorAssembler = VectorAssembler(inputCols = train_cols, outputCol = 'features')\n",
    "v_df_red = vectorAssembler.transform(red_df)\n",
    "v_df_red = v_df_red.select(['features', 'quality'])\n",
    "(train_df_red, test_df_red) = v_df_red.randomSplit([0.8,0.2])"
   ]
  },
  {
   "cell_type": "code",
   "execution_count": 7,
   "metadata": {},
   "outputs": [
    {
     "name": "stdout",
     "output_type": "stream",
     "text": [
      "RMSE: 0.643467\n",
      "MSE: 0.414050\n",
      "MAE: 0.499519\n"
     ]
    }
   ],
   "source": [
    "from pyspark.ml.regression import LinearRegression\n",
    "lr = LinearRegression(featuresCol='features', labelCol='quality')\n",
    "lr_model_red = lr.fit(train_df_red)\n",
    "trainingSummary_red = lr_model_red.summary\n",
    "print(\"RMSE: %f\" % trainingSummary_red.rootMeanSquaredError)\n",
    "print(\"MSE: %f\" % trainingSummary_red.meanSquaredError)\n",
    "print(\"MAE: %f\" % trainingSummary_red.meanAbsoluteError)"
   ]
  },
  {
   "cell_type": "code",
   "execution_count": 8,
   "metadata": {},
   "outputs": [
    {
     "name": "stdout",
     "output_type": "stream",
     "text": [
      "+------------------+-------+--------------------+\n",
      "|        prediction|quality|            features|\n",
      "+------------------+-------+--------------------+\n",
      "|  6.55316957774243|      7|[5.1,0.42,0.0,1.8...|\n",
      "|6.3149538874919084|      7|[5.3,0.57,0.01,1....|\n",
      "|   5.5071496346784|      6|[5.4,0.58,0.08,1....|\n",
      "| 5.693596489689618|      6|[5.4,0.74,0.0,1.2...|\n",
      "| 5.540644770812189|      6|[5.4,0.74,0.09,1....|\n",
      "+------------------+-------+--------------------+\n",
      "only showing top 5 rows\n",
      "\n"
     ]
    }
   ],
   "source": [
    "lr_predictions_red = lr_model_red.transform(test_df_red)\n",
    "lr_predictions_red.select(\"prediction\",\"quality\",\"features\").show(5)"
   ]
  },
  {
   "cell_type": "code",
   "execution_count": 9,
   "metadata": {},
   "outputs": [
    {
     "name": "stdout",
     "output_type": "stream",
     "text": [
      "MSE on test data = 0.512117\n"
     ]
    }
   ],
   "source": [
    "from pyspark.ml.evaluation import RegressionEvaluator\n",
    "\n",
    "lr_evaluator_red = RegressionEvaluator(predictionCol=\"prediction\", \\\n",
    "                 labelCol=\"quality\", metricName=\"mae\")\n",
    "\n",
    "print(\"MSE on test data = %g\" % lr_evaluator_red.evaluate(lr_predictions_red))"
   ]
  },
  {
   "cell_type": "code",
   "execution_count": 10,
   "metadata": {},
   "outputs": [],
   "source": [
    "#Дальше по белому вину"
   ]
  },
  {
   "cell_type": "code",
   "execution_count": 11,
   "metadata": {},
   "outputs": [
    {
     "data": {
      "text/plain": [
       "array([ 1.00000000e+00, -2.26972901e-02,  2.89180698e-01,  8.90207014e-02,\n",
       "        2.30856437e-02, -4.93958591e-02,  9.10697562e-02,  2.65331014e-01,\n",
       "       -4.25858291e-01, -1.71429850e-02, -1.20881123e-01, -1.13662831e-01,\n",
       "       -2.26972901e-02,  1.00000000e+00, -1.49471811e-01,  6.42860601e-02,\n",
       "        7.05115715e-02, -9.70119393e-02,  8.92605036e-02,  2.71138455e-02,\n",
       "       -3.19153683e-02, -3.57281469e-02,  6.77179428e-02, -1.94722969e-01,\n",
       "        2.89180698e-01, -1.49471811e-01,  1.00000000e+00,  9.42116243e-02,\n",
       "        1.14364448e-01,  9.40772210e-02,  1.21130798e-01,  1.49502571e-01,\n",
       "       -1.63748211e-01,  6.23309403e-02, -7.57287301e-02, -9.20909088e-03,\n",
       "        8.90207014e-02,  6.42860601e-02,  9.42116243e-02,  1.00000000e+00,\n",
       "        8.86845359e-02,  2.99098354e-01,  4.01439311e-01,  8.38966455e-01,\n",
       "       -1.94133454e-01, -2.66643659e-02, -4.50631222e-01, -9.75768289e-02,\n",
       "        2.30856437e-02,  7.05115715e-02,  1.14364448e-01,  8.86845359e-02,\n",
       "        1.00000000e+00,  1.01392352e-01,  1.98910300e-01,  2.57211320e-01,\n",
       "       -9.04394560e-02,  1.67628837e-02, -3.60188712e-01, -2.09934411e-01,\n",
       "       -4.93958591e-02, -9.70119393e-02,  9.40772210e-02,  2.99098354e-01,\n",
       "        1.01392352e-01,  1.00000000e+00,  6.15500965e-01,  2.94210411e-01,\n",
       "       -6.17796140e-04,  5.92172458e-02, -2.50103941e-01,  8.15806712e-03,\n",
       "        9.10697562e-02,  8.92605036e-02,  1.21130798e-01,  4.01439311e-01,\n",
       "        1.98910300e-01,  6.15500965e-01,  1.00000000e+00,  5.29881324e-01,\n",
       "        2.32097177e-03,  1.34562367e-01, -4.48892102e-01, -1.74737218e-01,\n",
       "        2.65331014e-01,  2.71138455e-02,  1.49502571e-01,  8.38966455e-01,\n",
       "        2.57211320e-01,  2.94210411e-01,  5.29881324e-01,  1.00000000e+00,\n",
       "       -9.35914934e-02,  7.44931485e-02, -7.80137621e-01, -3.07123313e-01,\n",
       "       -4.25858291e-01, -3.19153683e-02, -1.63748211e-01, -1.94133454e-01,\n",
       "       -9.04394560e-02, -6.17796140e-04,  2.32097177e-03, -9.35914934e-02,\n",
       "        1.00000000e+00,  1.55951497e-01,  1.21432099e-01,  9.94272457e-02,\n",
       "       -1.71429850e-02, -3.57281469e-02,  6.23309403e-02, -2.66643659e-02,\n",
       "        1.67628837e-02,  5.92172458e-02,  1.34562367e-01,  7.44931485e-02,\n",
       "        1.55951497e-01,  1.00000000e+00, -1.74327719e-02,  5.36778771e-02,\n",
       "       -1.20881123e-01,  6.77179428e-02, -7.57287301e-02, -4.50631222e-01,\n",
       "       -3.60188712e-01, -2.50103941e-01, -4.48892102e-01, -7.80137621e-01,\n",
       "        1.21432099e-01, -1.74327719e-02,  1.00000000e+00,  4.35574715e-01,\n",
       "       -1.13662831e-01, -1.94722969e-01, -9.20909088e-03, -9.75768289e-02,\n",
       "       -2.09934411e-01,  8.15806712e-03, -1.74737218e-01, -3.07123313e-01,\n",
       "        9.94272457e-02,  5.36778771e-02,  4.35574715e-01,  1.00000000e+00])"
      ]
     },
     "execution_count": 11,
     "metadata": {},
     "output_type": "execute_result"
    }
   ],
   "source": [
    "# convert to vector column first\n",
    "vector_col = \"corr_features\"\n",
    "assembler = VectorAssembler(inputCols=white_df.columns, outputCol=vector_col)\n",
    "df_vector = assembler.transform(white_df).select(vector_col)\n",
    "matrix = Correlation.corr(df_vector, vector_col)\n",
    "matrix.collect()[0][\"pearson({})\".format(vector_col)].values"
   ]
  },
  {
   "cell_type": "code",
   "execution_count": 12,
   "metadata": {},
   "outputs": [
    {
     "data": {
      "text/plain": [
       "0.4355747154613733"
      ]
     },
     "execution_count": 12,
     "metadata": {},
     "output_type": "execute_result"
    }
   ],
   "source": [
    "white_df.corr('alcohol','quality')"
   ]
  },
  {
   "cell_type": "code",
   "execution_count": 14,
   "metadata": {},
   "outputs": [
    {
     "name": "stdout",
     "output_type": "stream",
     "text": [
      "RMSE: 0.759129\n",
      "MSE: 0.576277\n",
      "MAE: 0.589302\n"
     ]
    }
   ],
   "source": [
    "train_cols_w = white_df.columns[:-1]\n",
    "vectorAssembler = VectorAssembler(inputCols = train_cols_w, outputCol = 'features')\n",
    "v_df_white = vectorAssembler.transform(white_df)\n",
    "v_df_white = v_df_white.select(['features', 'quality'])\n",
    "(train_df_white, test_df_white) = v_df_white.randomSplit([0.8,0.2])\n",
    "lr_white = LinearRegression(featuresCol='features', labelCol='quality')\n",
    "lr_model_white = lr_white.fit(train_df_white)\n",
    "trainingSummary_white = lr_model_white.summary\n",
    "print(\"RMSE: %f\" % trainingSummary_white.rootMeanSquaredError)\n",
    "print(\"MSE: %f\" % trainingSummary_white.meanSquaredError)\n",
    "print(\"MAE: %f\" % trainingSummary_white.meanAbsoluteError)"
   ]
  },
  {
   "cell_type": "code",
   "execution_count": null,
   "metadata": {},
   "outputs": [],
   "source": [
    "lr_predictions = lr_model.transform(test_df)\n",
    "lr_predictions.select(\"prediction\",\"quality\",\"features\").show(5)\n",
    "lr_evaluator = RegressionEvaluator(predictionCol=\"prediction\", \\\n",
    "                 labelCol=\"quality\", metricName=\"mae\")\n",
    "\n",
    "print(\"MSE on test data = %g\" % lr_evaluator.evaluate(lr_predictions))"
   ]
  }
 ],
 "metadata": {
  "kernelspec": {
   "display_name": "Python 3",
   "language": "python",
   "name": "python3"
  },
  "language_info": {
   "codemirror_mode": {
    "name": "ipython",
    "version": 3
   },
   "file_extension": ".py",
   "mimetype": "text/x-python",
   "name": "python",
   "nbconvert_exporter": "python",
   "pygments_lexer": "ipython3",
   "version": "3.7.1"
  }
 },
 "nbformat": 4,
 "nbformat_minor": 2
}
